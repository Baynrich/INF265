{
 "cells": [
  {
   "cell_type": "markdown",
   "metadata": {},
   "source": [
    "# Weeks 12-13: Object localization\n",
    "\n",
    "## General instructions\n",
    "\n",
    "Every two weeks you will be given an assignment related to the associated module. You have roughly two weeks to complete and submit each of them. There are three weekly group sessions available to help you complete the assignments. Attendance is not mandatory but recommended. However, all assignments are graded and not submitting them or submitting them after the deadline will give you no points.\n",
    "\n",
    "**FORMAT**: Jupyter notebook **(single file, not in a zip please!)**\n",
    "\n",
    "**DEADLINE**: Sunday 11th April, 23:59\n",
    "\n",
    "## Introduction\n",
    "\n",
    "The objective of this assignment is to get a basic understanding of the core concepts in object detection using convolutional neural networks. More specifically, this work focuses on the simpler problem of object localization, where each image contains a single object that should be spatially localized and classified. While object localization is simpler than object detection in the sense that object detection is more general as it allows for multiple objects per scene, object localization remains a rather avanced method, perfectly suited for our current level. This exercise consists of two parts:\n",
    "- To begin with, we will get familiar with the sliding window algorithm, and notice that applying a convolutional neural network sequentially to a specific set of windows within an image is in fact mathematically equivalent to passing the whole image as input for the convolutional neural network. We will in particular try to understand what parameters determine which set of windows will be processed by the convolutional sliding window algorithm and we will run a performance comparison between the sequential and convolutional implementations.\n",
    "- In a second part, we will implement in pytorch our own take on the object localization algorithm. For that purpose, the knowledge acquired in the first part of this assignment will be helpful, as we will try to implement object localization using a convolutional sliding window approach. In order for us to be able to train and test our network even on modest hardware, this exercise will have you work on a custom dataset: you will use the MNIST dataset as a backbone to generate new images with digits randomly placed and transformed, and each image will contain a single digit. While solving object localization on this custom dataset will be much easier than traditional object detection on large datasets such as COCO, it will still require clever vectorized coding if you hope to train your network in a reasonable amount of time !\n",
    "\n",
    "## Andrew's Videos related to this week's assignment\n",
    "\n",
    "- [C4W3L01 Object Localization](https://www.youtube.com/watch?v=GSwYGkTfOKk&list=PL_IHmaMAvkVxdDOBRg2CbcJBq9SY7ZUvs)\n",
    "- [C4W3L03 Object Detection](https://www.youtube.com/watch?v=5e5pjeojznk&list=PL_IHmaMAvkVxdDOBRg2CbcJBq9SY7ZUvs&index=3)\n",
    "- [C4W3L04 Convolutional Implementation Sliding Window](https://www.youtube.com/watch?v=XdsmlBGOK-k&list=PL_IHmaMAvkVxdDOBRg2CbcJBq9SY7ZUvs&index=4)"
   ]
  },
  {
   "cell_type": "markdown",
   "metadata": {},
   "source": [
    "# Setup"
   ]
  },
  {
   "cell_type": "code",
   "execution_count": 2,
   "metadata": {},
   "outputs": [],
   "source": [
    "import torch\n",
    "import torch.nn as nn\n",
    "import torch.optim as optim\n",
    "import numpy as np\n",
    "import torchvision\n",
    "from torchvision import datasets, transforms\n",
    "from torchsummary import summary\n",
    "import matplotlib.pyplot as plt\n",
    "import time\n",
    "import os\n",
    "from tqdm import tqdm\n",
    "\n",
    "torch.backends.cudnn.benchmark = True"
   ]
  },
  {
   "cell_type": "markdown",
   "metadata": {},
   "source": [
    "# Convolutional sliding window\n",
    "\n",
    "The sliding window algorithm refers to any procedure that applies a certain function (\"map\") to sliding windows within an image. In its typical forumaltion, this seems to be an inherently sequential algorithm: process the first window, then the second etc$\\dots$ assuming the function to apply on every window is a convolutional neural network, an interesting fact arises: the sequential implemention of sliding window for this convolutional neural network map becomes exactly equivalent to passing the whole image as input to the convolutional neural network. We will investigate this fact further in this section. Answer the following questions:\n",
    "\n",
    "1) Watch Andrew's video about convolutional sliding window implementation.\n",
    "\n",
    "2) What slight modification is needed on the convolutional neural network such that sequential and convolutional sliding window procedures for this convolutional neural network map become equivalent ?\n",
    "    The sequential procedure's connected layers must rather be 1x1xX conv layers\n",
    "\n",
    "\n",
    "3) Reproduce the convolutional neural network from Andrew's video (1:20), and verify that for an input tensor with spatial dimension $16\\times 16$, convolutional sliding window for that convolutional neural network map is the same as a sequential sliding window with stride $2$ along both spatial dimension. You can for instance compute the norm of the difference between the output tensors from convolutional and sequential implementations and check that this norm is indeed $0.0$.\n"
   ]
  },
  {
   "cell_type": "code",
   "execution_count": 59,
   "metadata": {},
   "outputs": [],
   "source": [
    "class ConvSlidingWindows(nn.Module):\n",
    "    def __init__(self):\n",
    "        super().__init__()\n",
    "        self.layers = []\n",
    "        self.layers.append(nn.Conv2d(3, 16, (5, 5)))\n",
    "        self.layers.append(nn.MaxPool2d((2,2), stride=2))\n",
    "        self.layers.append(nn.Conv2d(16, 400, (5, 5)))\n",
    "        self.layers.append(nn.Conv2d(400, 400, (1, 1)))\n",
    "        self.layers.append(nn.Conv2d(400, 4, (1, 1)))\n",
    "    \n",
    "    def forward(self, x):\n",
    "        a = x\n",
    "        for layer in self.layers:\n",
    "            a = layer(a)\n",
    "        return a\n",
    "    \n",
    "class SeqSlidingWindows(nn.Module):\n",
    "    def __init__(self):\n",
    "        super().__init__()\n",
    "        self.stride = 2\n",
    "        self.layers = []\n",
    "        self.layers.append(nn.Conv2d(3, 16, (5, 5)))\n",
    "        self.layers.append(nn.MaxPool2d((2,2), stride=2))\n",
    "        self.layers.append(nn.Flatten())\n",
    "        self.layers.append(nn.Linear(400, 400))\n",
    "        self.layers.append(nn.Linear(400, 4))\n",
    "        self.layers.append(nn.Softmax(dim=1))\n",
    "        \n",
    "    def split_to_windows(stride, a, window_size=14):\n",
    "        dims = ((a.shape[2] - window_size)// stride + 1) * ((a.shape[3] - window_size)// stride + 1) * a.shape[0]\n",
    "        new_a = torch.empty((dims, 3, window_size, window_size))\n",
    "        idx = 0\n",
    "        for i in range(a.shape[0]):\n",
    "            for x in range(((a.shape[2] - window_size)// stride + 1)):\n",
    "                for y in range(((a.shape[3] - window_size)// stride + 1)):\n",
    "                    new_a[idx] = torch.narrow(torch.narrow(a[i], -2, y*stride, window_size), -1, x*stride, window_size)\n",
    "                    idx += 1\n",
    "        return new_a\n",
    "    \n",
    "    def forward(self, x):\n",
    "        a = x\n",
    "        a = self.split_to_windows(a)\n",
    "        for layer in self.layers:\n",
    "            a = layer(a)\n",
    "        a = torch.reshape(a, (x.shape[0], a.shape[0]//x.shape[0], a.shape[1]))\n",
    "        return a"
   ]
  },
  {
   "cell_type": "code",
   "execution_count": 60,
   "metadata": {},
   "outputs": [
    {
     "ename": "TypeError",
     "evalue": "unsupported operand type(s) for //: 'int' and 'SeqSlidingWindows'",
     "output_type": "error",
     "traceback": [
      "\u001b[0;31m---------------------------------------------------------------------------\u001b[0m",
      "\u001b[0;31mTypeError\u001b[0m                                 Traceback (most recent call last)",
      "\u001b[0;32m<ipython-input-60-393eafef3c59>\u001b[0m in \u001b[0;36m<module>\u001b[0;34m\u001b[0m\n\u001b[1;32m      4\u001b[0m \u001b[0mx1\u001b[0m \u001b[0;34m=\u001b[0m \u001b[0mtorch\u001b[0m\u001b[0;34m.\u001b[0m\u001b[0mrand\u001b[0m\u001b[0;34m(\u001b[0m\u001b[0;34m(\u001b[0m\u001b[0;36m2\u001b[0m\u001b[0;34m,\u001b[0m \u001b[0;36m3\u001b[0m\u001b[0;34m,\u001b[0m \u001b[0;36m16\u001b[0m\u001b[0;34m,\u001b[0m \u001b[0;36m16\u001b[0m\u001b[0;34m)\u001b[0m\u001b[0;34m)\u001b[0m\u001b[0;34m\u001b[0m\u001b[0;34m\u001b[0m\u001b[0m\n\u001b[1;32m      5\u001b[0m \u001b[0;34m\u001b[0m\u001b[0m\n\u001b[0;32m----> 6\u001b[0;31m \u001b[0my_seq\u001b[0m \u001b[0;34m=\u001b[0m \u001b[0mseqSliding\u001b[0m\u001b[0;34m(\u001b[0m\u001b[0mx1\u001b[0m\u001b[0;34m)\u001b[0m\u001b[0;34m\u001b[0m\u001b[0;34m\u001b[0m\u001b[0m\n\u001b[0m\u001b[1;32m      7\u001b[0m \u001b[0my_conv\u001b[0m \u001b[0;34m=\u001b[0m \u001b[0mconvSliding\u001b[0m\u001b[0;34m(\u001b[0m\u001b[0mx1\u001b[0m\u001b[0;34m)\u001b[0m\u001b[0;34m\u001b[0m\u001b[0;34m\u001b[0m\u001b[0m\n\u001b[1;32m      8\u001b[0m \u001b[0;34m\u001b[0m\u001b[0m\n",
      "\u001b[0;32m/Library/Frameworks/Python.framework/Versions/3.8/lib/python3.8/site-packages/torch/nn/modules/module.py\u001b[0m in \u001b[0;36m_call_impl\u001b[0;34m(self, *input, **kwargs)\u001b[0m\n\u001b[1;32m    725\u001b[0m             \u001b[0mresult\u001b[0m \u001b[0;34m=\u001b[0m \u001b[0mself\u001b[0m\u001b[0;34m.\u001b[0m\u001b[0m_slow_forward\u001b[0m\u001b[0;34m(\u001b[0m\u001b[0;34m*\u001b[0m\u001b[0minput\u001b[0m\u001b[0;34m,\u001b[0m \u001b[0;34m**\u001b[0m\u001b[0mkwargs\u001b[0m\u001b[0;34m)\u001b[0m\u001b[0;34m\u001b[0m\u001b[0;34m\u001b[0m\u001b[0m\n\u001b[1;32m    726\u001b[0m         \u001b[0;32melse\u001b[0m\u001b[0;34m:\u001b[0m\u001b[0;34m\u001b[0m\u001b[0;34m\u001b[0m\u001b[0m\n\u001b[0;32m--> 727\u001b[0;31m             \u001b[0mresult\u001b[0m \u001b[0;34m=\u001b[0m \u001b[0mself\u001b[0m\u001b[0;34m.\u001b[0m\u001b[0mforward\u001b[0m\u001b[0;34m(\u001b[0m\u001b[0;34m*\u001b[0m\u001b[0minput\u001b[0m\u001b[0;34m,\u001b[0m \u001b[0;34m**\u001b[0m\u001b[0mkwargs\u001b[0m\u001b[0;34m)\u001b[0m\u001b[0;34m\u001b[0m\u001b[0;34m\u001b[0m\u001b[0m\n\u001b[0m\u001b[1;32m    728\u001b[0m         for hook in itertools.chain(\n\u001b[1;32m    729\u001b[0m                 \u001b[0m_global_forward_hooks\u001b[0m\u001b[0;34m.\u001b[0m\u001b[0mvalues\u001b[0m\u001b[0;34m(\u001b[0m\u001b[0;34m)\u001b[0m\u001b[0;34m,\u001b[0m\u001b[0;34m\u001b[0m\u001b[0;34m\u001b[0m\u001b[0m\n",
      "\u001b[0;32m<ipython-input-59-c6e212cf3721>\u001b[0m in \u001b[0;36mforward\u001b[0;34m(self, x)\u001b[0m\n\u001b[1;32m     40\u001b[0m     \u001b[0;32mdef\u001b[0m \u001b[0mforward\u001b[0m\u001b[0;34m(\u001b[0m\u001b[0mself\u001b[0m\u001b[0;34m,\u001b[0m \u001b[0mx\u001b[0m\u001b[0;34m)\u001b[0m\u001b[0;34m:\u001b[0m\u001b[0;34m\u001b[0m\u001b[0;34m\u001b[0m\u001b[0m\n\u001b[1;32m     41\u001b[0m         \u001b[0ma\u001b[0m \u001b[0;34m=\u001b[0m \u001b[0mx\u001b[0m\u001b[0;34m\u001b[0m\u001b[0;34m\u001b[0m\u001b[0m\n\u001b[0;32m---> 42\u001b[0;31m         \u001b[0ma\u001b[0m \u001b[0;34m=\u001b[0m \u001b[0mself\u001b[0m\u001b[0;34m.\u001b[0m\u001b[0msplit_to_windows\u001b[0m\u001b[0;34m(\u001b[0m\u001b[0ma\u001b[0m\u001b[0;34m)\u001b[0m\u001b[0;34m\u001b[0m\u001b[0;34m\u001b[0m\u001b[0m\n\u001b[0m\u001b[1;32m     43\u001b[0m         \u001b[0;32mfor\u001b[0m \u001b[0mlayer\u001b[0m \u001b[0;32min\u001b[0m \u001b[0mself\u001b[0m\u001b[0;34m.\u001b[0m\u001b[0mlayers\u001b[0m\u001b[0;34m:\u001b[0m\u001b[0;34m\u001b[0m\u001b[0;34m\u001b[0m\u001b[0m\n\u001b[1;32m     44\u001b[0m             \u001b[0ma\u001b[0m \u001b[0;34m=\u001b[0m \u001b[0mlayer\u001b[0m\u001b[0;34m(\u001b[0m\u001b[0ma\u001b[0m\u001b[0;34m)\u001b[0m\u001b[0;34m\u001b[0m\u001b[0;34m\u001b[0m\u001b[0m\n",
      "\u001b[0;32m<ipython-input-59-c6e212cf3721>\u001b[0m in \u001b[0;36msplit_to_windows\u001b[0;34m(stride, a, window_size)\u001b[0m\n\u001b[1;32m     28\u001b[0m \u001b[0;34m\u001b[0m\u001b[0m\n\u001b[1;32m     29\u001b[0m     \u001b[0;32mdef\u001b[0m \u001b[0msplit_to_windows\u001b[0m\u001b[0;34m(\u001b[0m\u001b[0mstride\u001b[0m\u001b[0;34m,\u001b[0m \u001b[0ma\u001b[0m\u001b[0;34m,\u001b[0m \u001b[0mwindow_size\u001b[0m\u001b[0;34m=\u001b[0m\u001b[0;36m14\u001b[0m\u001b[0;34m)\u001b[0m\u001b[0;34m:\u001b[0m\u001b[0;34m\u001b[0m\u001b[0;34m\u001b[0m\u001b[0m\n\u001b[0;32m---> 30\u001b[0;31m         \u001b[0mdims\u001b[0m \u001b[0;34m=\u001b[0m \u001b[0;34m(\u001b[0m\u001b[0;34m(\u001b[0m\u001b[0ma\u001b[0m\u001b[0;34m.\u001b[0m\u001b[0mshape\u001b[0m\u001b[0;34m[\u001b[0m\u001b[0;36m2\u001b[0m\u001b[0;34m]\u001b[0m \u001b[0;34m-\u001b[0m \u001b[0mwindow_size\u001b[0m\u001b[0;34m)\u001b[0m\u001b[0;34m//\u001b[0m \u001b[0mstride\u001b[0m \u001b[0;34m+\u001b[0m \u001b[0;36m1\u001b[0m\u001b[0;34m)\u001b[0m \u001b[0;34m*\u001b[0m \u001b[0;34m(\u001b[0m\u001b[0;34m(\u001b[0m\u001b[0ma\u001b[0m\u001b[0;34m.\u001b[0m\u001b[0mshape\u001b[0m\u001b[0;34m[\u001b[0m\u001b[0;36m3\u001b[0m\u001b[0;34m]\u001b[0m \u001b[0;34m-\u001b[0m \u001b[0mwindow_size\u001b[0m\u001b[0;34m)\u001b[0m\u001b[0;34m//\u001b[0m \u001b[0mstride\u001b[0m \u001b[0;34m+\u001b[0m \u001b[0;36m1\u001b[0m\u001b[0;34m)\u001b[0m \u001b[0;34m*\u001b[0m \u001b[0ma\u001b[0m\u001b[0;34m.\u001b[0m\u001b[0mshape\u001b[0m\u001b[0;34m[\u001b[0m\u001b[0;36m0\u001b[0m\u001b[0;34m]\u001b[0m\u001b[0;34m\u001b[0m\u001b[0;34m\u001b[0m\u001b[0m\n\u001b[0m\u001b[1;32m     31\u001b[0m         \u001b[0mnew_a\u001b[0m \u001b[0;34m=\u001b[0m \u001b[0mtorch\u001b[0m\u001b[0;34m.\u001b[0m\u001b[0mempty\u001b[0m\u001b[0;34m(\u001b[0m\u001b[0;34m(\u001b[0m\u001b[0mdims\u001b[0m\u001b[0;34m,\u001b[0m \u001b[0;36m3\u001b[0m\u001b[0;34m,\u001b[0m \u001b[0mwindow_size\u001b[0m\u001b[0;34m,\u001b[0m \u001b[0mwindow_size\u001b[0m\u001b[0;34m)\u001b[0m\u001b[0;34m)\u001b[0m\u001b[0;34m\u001b[0m\u001b[0;34m\u001b[0m\u001b[0m\n\u001b[1;32m     32\u001b[0m         \u001b[0midx\u001b[0m \u001b[0;34m=\u001b[0m \u001b[0;36m0\u001b[0m\u001b[0;34m\u001b[0m\u001b[0;34m\u001b[0m\u001b[0m\n",
      "\u001b[0;31mTypeError\u001b[0m: unsupported operand type(s) for //: 'int' and 'SeqSlidingWindows'"
     ]
    }
   ],
   "source": [
    "seqSliding = SeqSlidingWindows()\n",
    "convSliding = ConvSlidingWindows()\n",
    "\n",
    "x1 = torch.rand((2, 3, 16, 16))\n",
    "\n",
    "y_seq = seqSliding(x1)\n",
    "y_conv = convSliding(x1)\n",
    "\n",
    "print(y_conv.shape, y_seq.shape)\n",
    "\n"
   ]
  },
  {
   "cell_type": "markdown",
   "metadata": {},
   "source": [
    "4) What happens when the input tensor now has spatial dimensions $28\\times 28$? Try a few other spatial dimensions. Can you find some such that convolutional and sequential procedures yield different outputs ? The output tensor has dimensions $8\\times$8"
   ]
  },
  {
   "cell_type": "code",
   "execution_count": 8,
   "metadata": {},
   "outputs": [
    {
     "name": "stdout",
     "output_type": "stream",
     "text": [
      "torch.Size([1, 4, 8, 8])\n"
     ]
    },
    {
     "ename": "TypeError",
     "evalue": "unsupported operand type(s) for //: 'int' and 'SeqSlidingWindows'",
     "output_type": "error",
     "traceback": [
      "\u001b[0;31m---------------------------------------------------------------------------\u001b[0m",
      "\u001b[0;31mTypeError\u001b[0m                                 Traceback (most recent call last)",
      "\u001b[0;32m<ipython-input-8-9f6f6a0c4f7c>\u001b[0m in \u001b[0;36m<module>\u001b[0;34m\u001b[0m\n\u001b[1;32m      3\u001b[0m \u001b[0mprint\u001b[0m\u001b[0;34m(\u001b[0m\u001b[0mconv1\u001b[0m\u001b[0;34m.\u001b[0m\u001b[0mshape\u001b[0m\u001b[0;34m)\u001b[0m\u001b[0;34m\u001b[0m\u001b[0;34m\u001b[0m\u001b[0m\n\u001b[1;32m      4\u001b[0m \u001b[0;31m# print(oc2)\u001b[0m\u001b[0;34m\u001b[0m\u001b[0;34m\u001b[0m\u001b[0;34m\u001b[0m\u001b[0m\n\u001b[0;32m----> 5\u001b[0;31m \u001b[0mseq1\u001b[0m \u001b[0;34m=\u001b[0m \u001b[0mseqSliding\u001b[0m\u001b[0;34m(\u001b[0m\u001b[0mx1\u001b[0m\u001b[0;34m)\u001b[0m\u001b[0;34m\u001b[0m\u001b[0;34m\u001b[0m\u001b[0m\n\u001b[0m\u001b[1;32m      6\u001b[0m \u001b[0mprint\u001b[0m\u001b[0;34m(\u001b[0m\u001b[0mseq1\u001b[0m\u001b[0;34m.\u001b[0m\u001b[0mshape\u001b[0m\u001b[0;34m)\u001b[0m\u001b[0;34m\u001b[0m\u001b[0;34m\u001b[0m\u001b[0m\n\u001b[1;32m      7\u001b[0m \u001b[0;31m# print(wc_mod)\u001b[0m\u001b[0;34m\u001b[0m\u001b[0;34m\u001b[0m\u001b[0;34m\u001b[0m\u001b[0m\n",
      "\u001b[0;32m/Library/Frameworks/Python.framework/Versions/3.8/lib/python3.8/site-packages/torch/nn/modules/module.py\u001b[0m in \u001b[0;36m_call_impl\u001b[0;34m(self, *input, **kwargs)\u001b[0m\n\u001b[1;32m    725\u001b[0m             \u001b[0mresult\u001b[0m \u001b[0;34m=\u001b[0m \u001b[0mself\u001b[0m\u001b[0;34m.\u001b[0m\u001b[0m_slow_forward\u001b[0m\u001b[0;34m(\u001b[0m\u001b[0;34m*\u001b[0m\u001b[0minput\u001b[0m\u001b[0;34m,\u001b[0m \u001b[0;34m**\u001b[0m\u001b[0mkwargs\u001b[0m\u001b[0;34m)\u001b[0m\u001b[0;34m\u001b[0m\u001b[0;34m\u001b[0m\u001b[0m\n\u001b[1;32m    726\u001b[0m         \u001b[0;32melse\u001b[0m\u001b[0;34m:\u001b[0m\u001b[0;34m\u001b[0m\u001b[0;34m\u001b[0m\u001b[0m\n\u001b[0;32m--> 727\u001b[0;31m             \u001b[0mresult\u001b[0m \u001b[0;34m=\u001b[0m \u001b[0mself\u001b[0m\u001b[0;34m.\u001b[0m\u001b[0mforward\u001b[0m\u001b[0;34m(\u001b[0m\u001b[0;34m*\u001b[0m\u001b[0minput\u001b[0m\u001b[0;34m,\u001b[0m \u001b[0;34m**\u001b[0m\u001b[0mkwargs\u001b[0m\u001b[0;34m)\u001b[0m\u001b[0;34m\u001b[0m\u001b[0;34m\u001b[0m\u001b[0m\n\u001b[0m\u001b[1;32m    728\u001b[0m         for hook in itertools.chain(\n\u001b[1;32m    729\u001b[0m                 \u001b[0m_global_forward_hooks\u001b[0m\u001b[0;34m.\u001b[0m\u001b[0mvalues\u001b[0m\u001b[0;34m(\u001b[0m\u001b[0;34m)\u001b[0m\u001b[0;34m,\u001b[0m\u001b[0;34m\u001b[0m\u001b[0;34m\u001b[0m\u001b[0m\n",
      "\u001b[0;32m<ipython-input-6-c6e212cf3721>\u001b[0m in \u001b[0;36mforward\u001b[0;34m(self, x)\u001b[0m\n\u001b[1;32m     40\u001b[0m     \u001b[0;32mdef\u001b[0m \u001b[0mforward\u001b[0m\u001b[0;34m(\u001b[0m\u001b[0mself\u001b[0m\u001b[0;34m,\u001b[0m \u001b[0mx\u001b[0m\u001b[0;34m)\u001b[0m\u001b[0;34m:\u001b[0m\u001b[0;34m\u001b[0m\u001b[0;34m\u001b[0m\u001b[0m\n\u001b[1;32m     41\u001b[0m         \u001b[0ma\u001b[0m \u001b[0;34m=\u001b[0m \u001b[0mx\u001b[0m\u001b[0;34m\u001b[0m\u001b[0;34m\u001b[0m\u001b[0m\n\u001b[0;32m---> 42\u001b[0;31m         \u001b[0ma\u001b[0m \u001b[0;34m=\u001b[0m \u001b[0mself\u001b[0m\u001b[0;34m.\u001b[0m\u001b[0msplit_to_windows\u001b[0m\u001b[0;34m(\u001b[0m\u001b[0ma\u001b[0m\u001b[0;34m)\u001b[0m\u001b[0;34m\u001b[0m\u001b[0;34m\u001b[0m\u001b[0m\n\u001b[0m\u001b[1;32m     43\u001b[0m         \u001b[0;32mfor\u001b[0m \u001b[0mlayer\u001b[0m \u001b[0;32min\u001b[0m \u001b[0mself\u001b[0m\u001b[0;34m.\u001b[0m\u001b[0mlayers\u001b[0m\u001b[0;34m:\u001b[0m\u001b[0;34m\u001b[0m\u001b[0;34m\u001b[0m\u001b[0m\n\u001b[1;32m     44\u001b[0m             \u001b[0ma\u001b[0m \u001b[0;34m=\u001b[0m \u001b[0mlayer\u001b[0m\u001b[0;34m(\u001b[0m\u001b[0ma\u001b[0m\u001b[0;34m)\u001b[0m\u001b[0;34m\u001b[0m\u001b[0;34m\u001b[0m\u001b[0m\n",
      "\u001b[0;32m<ipython-input-6-c6e212cf3721>\u001b[0m in \u001b[0;36msplit_to_windows\u001b[0;34m(stride, a, window_size)\u001b[0m\n\u001b[1;32m     28\u001b[0m \u001b[0;34m\u001b[0m\u001b[0m\n\u001b[1;32m     29\u001b[0m     \u001b[0;32mdef\u001b[0m \u001b[0msplit_to_windows\u001b[0m\u001b[0;34m(\u001b[0m\u001b[0mstride\u001b[0m\u001b[0;34m,\u001b[0m \u001b[0ma\u001b[0m\u001b[0;34m,\u001b[0m \u001b[0mwindow_size\u001b[0m\u001b[0;34m=\u001b[0m\u001b[0;36m14\u001b[0m\u001b[0;34m)\u001b[0m\u001b[0;34m:\u001b[0m\u001b[0;34m\u001b[0m\u001b[0;34m\u001b[0m\u001b[0m\n\u001b[0;32m---> 30\u001b[0;31m         \u001b[0mdims\u001b[0m \u001b[0;34m=\u001b[0m \u001b[0;34m(\u001b[0m\u001b[0;34m(\u001b[0m\u001b[0ma\u001b[0m\u001b[0;34m.\u001b[0m\u001b[0mshape\u001b[0m\u001b[0;34m[\u001b[0m\u001b[0;36m2\u001b[0m\u001b[0;34m]\u001b[0m \u001b[0;34m-\u001b[0m \u001b[0mwindow_size\u001b[0m\u001b[0;34m)\u001b[0m\u001b[0;34m//\u001b[0m \u001b[0mstride\u001b[0m \u001b[0;34m+\u001b[0m \u001b[0;36m1\u001b[0m\u001b[0;34m)\u001b[0m \u001b[0;34m*\u001b[0m \u001b[0;34m(\u001b[0m\u001b[0;34m(\u001b[0m\u001b[0ma\u001b[0m\u001b[0;34m.\u001b[0m\u001b[0mshape\u001b[0m\u001b[0;34m[\u001b[0m\u001b[0;36m3\u001b[0m\u001b[0;34m]\u001b[0m \u001b[0;34m-\u001b[0m \u001b[0mwindow_size\u001b[0m\u001b[0;34m)\u001b[0m\u001b[0;34m//\u001b[0m \u001b[0mstride\u001b[0m \u001b[0;34m+\u001b[0m \u001b[0;36m1\u001b[0m\u001b[0;34m)\u001b[0m \u001b[0;34m*\u001b[0m \u001b[0ma\u001b[0m\u001b[0;34m.\u001b[0m\u001b[0mshape\u001b[0m\u001b[0;34m[\u001b[0m\u001b[0;36m0\u001b[0m\u001b[0;34m]\u001b[0m\u001b[0;34m\u001b[0m\u001b[0;34m\u001b[0m\u001b[0m\n\u001b[0m\u001b[1;32m     31\u001b[0m         \u001b[0mnew_a\u001b[0m \u001b[0;34m=\u001b[0m \u001b[0mtorch\u001b[0m\u001b[0;34m.\u001b[0m\u001b[0mempty\u001b[0m\u001b[0;34m(\u001b[0m\u001b[0;34m(\u001b[0m\u001b[0mdims\u001b[0m\u001b[0;34m,\u001b[0m \u001b[0;36m3\u001b[0m\u001b[0;34m,\u001b[0m \u001b[0mwindow_size\u001b[0m\u001b[0;34m,\u001b[0m \u001b[0mwindow_size\u001b[0m\u001b[0;34m)\u001b[0m\u001b[0;34m)\u001b[0m\u001b[0;34m\u001b[0m\u001b[0;34m\u001b[0m\u001b[0m\n\u001b[1;32m     32\u001b[0m         \u001b[0midx\u001b[0m \u001b[0;34m=\u001b[0m \u001b[0;36m0\u001b[0m\u001b[0;34m\u001b[0m\u001b[0;34m\u001b[0m\u001b[0m\n",
      "\u001b[0;31mTypeError\u001b[0m: unsupported operand type(s) for //: 'int' and 'SeqSlidingWindows'"
     ]
    }
   ],
   "source": [
    "x1 = torch.rand((1, 3, 28, 28))\n",
    "conv1 = convSliding(x1)\n",
    "print(conv1.shape)\n",
    "# print(oc2)\n",
    "seq1 = seqSliding(x1)\n",
    "print(seq1.shape)\n",
    "# print(wc_mod)"
   ]
  },
  {
   "cell_type": "markdown",
   "metadata": {},
   "source": [
    "5) Do a time comparison for various input spatial dimensions between convolutional and sequential sliding window procedures for Andrew's convolutional network map. Which is the most efficient ? Can you explain why ?"
   ]
  },
  {
   "cell_type": "code",
   "execution_count": 9,
   "metadata": {
    "scrolled": true
   },
   "outputs": [
    {
     "ename": "TypeError",
     "evalue": "unsupported operand type(s) for //: 'int' and 'SeqSlidingWindows'",
     "output_type": "error",
     "traceback": [
      "\u001b[0;31m---------------------------------------------------------------------------\u001b[0m",
      "\u001b[0;31mTypeError\u001b[0m                                 Traceback (most recent call last)",
      "\u001b[0;32m<ipython-input-9-5fab3c29966f>\u001b[0m in \u001b[0;36m<module>\u001b[0;34m\u001b[0m\n\u001b[1;32m      7\u001b[0m \u001b[0;34m\u001b[0m\u001b[0m\n\u001b[1;32m      8\u001b[0m     \u001b[0mt\u001b[0m \u001b[0;34m=\u001b[0m \u001b[0mtime\u001b[0m\u001b[0;34m.\u001b[0m\u001b[0mprocess_time\u001b[0m\u001b[0;34m(\u001b[0m\u001b[0;34m)\u001b[0m\u001b[0;34m\u001b[0m\u001b[0;34m\u001b[0m\u001b[0m\n\u001b[0;32m----> 9\u001b[0;31m     \u001b[0my_seq\u001b[0m \u001b[0;34m=\u001b[0m \u001b[0mseqSliding\u001b[0m\u001b[0;34m(\u001b[0m\u001b[0mx_dim\u001b[0m\u001b[0;34m)\u001b[0m\u001b[0;34m\u001b[0m\u001b[0;34m\u001b[0m\u001b[0m\n\u001b[0m\u001b[1;32m     10\u001b[0m     \u001b[0mt_seq\u001b[0m \u001b[0;34m=\u001b[0m \u001b[0mtime\u001b[0m\u001b[0;34m.\u001b[0m\u001b[0mprocess_time\u001b[0m\u001b[0;34m(\u001b[0m\u001b[0;34m)\u001b[0m \u001b[0;34m-\u001b[0m \u001b[0mt\u001b[0m\u001b[0;34m\u001b[0m\u001b[0;34m\u001b[0m\u001b[0m\n\u001b[1;32m     11\u001b[0m \u001b[0;34m\u001b[0m\u001b[0m\n",
      "\u001b[0;32m/Library/Frameworks/Python.framework/Versions/3.8/lib/python3.8/site-packages/torch/nn/modules/module.py\u001b[0m in \u001b[0;36m_call_impl\u001b[0;34m(self, *input, **kwargs)\u001b[0m\n\u001b[1;32m    725\u001b[0m             \u001b[0mresult\u001b[0m \u001b[0;34m=\u001b[0m \u001b[0mself\u001b[0m\u001b[0;34m.\u001b[0m\u001b[0m_slow_forward\u001b[0m\u001b[0;34m(\u001b[0m\u001b[0;34m*\u001b[0m\u001b[0minput\u001b[0m\u001b[0;34m,\u001b[0m \u001b[0;34m**\u001b[0m\u001b[0mkwargs\u001b[0m\u001b[0;34m)\u001b[0m\u001b[0;34m\u001b[0m\u001b[0;34m\u001b[0m\u001b[0m\n\u001b[1;32m    726\u001b[0m         \u001b[0;32melse\u001b[0m\u001b[0;34m:\u001b[0m\u001b[0;34m\u001b[0m\u001b[0;34m\u001b[0m\u001b[0m\n\u001b[0;32m--> 727\u001b[0;31m             \u001b[0mresult\u001b[0m \u001b[0;34m=\u001b[0m \u001b[0mself\u001b[0m\u001b[0;34m.\u001b[0m\u001b[0mforward\u001b[0m\u001b[0;34m(\u001b[0m\u001b[0;34m*\u001b[0m\u001b[0minput\u001b[0m\u001b[0;34m,\u001b[0m \u001b[0;34m**\u001b[0m\u001b[0mkwargs\u001b[0m\u001b[0;34m)\u001b[0m\u001b[0;34m\u001b[0m\u001b[0;34m\u001b[0m\u001b[0m\n\u001b[0m\u001b[1;32m    728\u001b[0m         for hook in itertools.chain(\n\u001b[1;32m    729\u001b[0m                 \u001b[0m_global_forward_hooks\u001b[0m\u001b[0;34m.\u001b[0m\u001b[0mvalues\u001b[0m\u001b[0;34m(\u001b[0m\u001b[0;34m)\u001b[0m\u001b[0;34m,\u001b[0m\u001b[0;34m\u001b[0m\u001b[0;34m\u001b[0m\u001b[0m\n",
      "\u001b[0;32m<ipython-input-6-c6e212cf3721>\u001b[0m in \u001b[0;36mforward\u001b[0;34m(self, x)\u001b[0m\n\u001b[1;32m     40\u001b[0m     \u001b[0;32mdef\u001b[0m \u001b[0mforward\u001b[0m\u001b[0;34m(\u001b[0m\u001b[0mself\u001b[0m\u001b[0;34m,\u001b[0m \u001b[0mx\u001b[0m\u001b[0;34m)\u001b[0m\u001b[0;34m:\u001b[0m\u001b[0;34m\u001b[0m\u001b[0;34m\u001b[0m\u001b[0m\n\u001b[1;32m     41\u001b[0m         \u001b[0ma\u001b[0m \u001b[0;34m=\u001b[0m \u001b[0mx\u001b[0m\u001b[0;34m\u001b[0m\u001b[0;34m\u001b[0m\u001b[0m\n\u001b[0;32m---> 42\u001b[0;31m         \u001b[0ma\u001b[0m \u001b[0;34m=\u001b[0m \u001b[0mself\u001b[0m\u001b[0;34m.\u001b[0m\u001b[0msplit_to_windows\u001b[0m\u001b[0;34m(\u001b[0m\u001b[0ma\u001b[0m\u001b[0;34m)\u001b[0m\u001b[0;34m\u001b[0m\u001b[0;34m\u001b[0m\u001b[0m\n\u001b[0m\u001b[1;32m     43\u001b[0m         \u001b[0;32mfor\u001b[0m \u001b[0mlayer\u001b[0m \u001b[0;32min\u001b[0m \u001b[0mself\u001b[0m\u001b[0;34m.\u001b[0m\u001b[0mlayers\u001b[0m\u001b[0;34m:\u001b[0m\u001b[0;34m\u001b[0m\u001b[0;34m\u001b[0m\u001b[0m\n\u001b[1;32m     44\u001b[0m             \u001b[0ma\u001b[0m \u001b[0;34m=\u001b[0m \u001b[0mlayer\u001b[0m\u001b[0;34m(\u001b[0m\u001b[0ma\u001b[0m\u001b[0;34m)\u001b[0m\u001b[0;34m\u001b[0m\u001b[0;34m\u001b[0m\u001b[0m\n",
      "\u001b[0;32m<ipython-input-6-c6e212cf3721>\u001b[0m in \u001b[0;36msplit_to_windows\u001b[0;34m(stride, a, window_size)\u001b[0m\n\u001b[1;32m     28\u001b[0m \u001b[0;34m\u001b[0m\u001b[0m\n\u001b[1;32m     29\u001b[0m     \u001b[0;32mdef\u001b[0m \u001b[0msplit_to_windows\u001b[0m\u001b[0;34m(\u001b[0m\u001b[0mstride\u001b[0m\u001b[0;34m,\u001b[0m \u001b[0ma\u001b[0m\u001b[0;34m,\u001b[0m \u001b[0mwindow_size\u001b[0m\u001b[0;34m=\u001b[0m\u001b[0;36m14\u001b[0m\u001b[0;34m)\u001b[0m\u001b[0;34m:\u001b[0m\u001b[0;34m\u001b[0m\u001b[0;34m\u001b[0m\u001b[0m\n\u001b[0;32m---> 30\u001b[0;31m         \u001b[0mdims\u001b[0m \u001b[0;34m=\u001b[0m \u001b[0;34m(\u001b[0m\u001b[0;34m(\u001b[0m\u001b[0ma\u001b[0m\u001b[0;34m.\u001b[0m\u001b[0mshape\u001b[0m\u001b[0;34m[\u001b[0m\u001b[0;36m2\u001b[0m\u001b[0;34m]\u001b[0m \u001b[0;34m-\u001b[0m \u001b[0mwindow_size\u001b[0m\u001b[0;34m)\u001b[0m\u001b[0;34m//\u001b[0m \u001b[0mstride\u001b[0m \u001b[0;34m+\u001b[0m \u001b[0;36m1\u001b[0m\u001b[0;34m)\u001b[0m \u001b[0;34m*\u001b[0m \u001b[0;34m(\u001b[0m\u001b[0;34m(\u001b[0m\u001b[0ma\u001b[0m\u001b[0;34m.\u001b[0m\u001b[0mshape\u001b[0m\u001b[0;34m[\u001b[0m\u001b[0;36m3\u001b[0m\u001b[0;34m]\u001b[0m \u001b[0;34m-\u001b[0m \u001b[0mwindow_size\u001b[0m\u001b[0;34m)\u001b[0m\u001b[0;34m//\u001b[0m \u001b[0mstride\u001b[0m \u001b[0;34m+\u001b[0m \u001b[0;36m1\u001b[0m\u001b[0;34m)\u001b[0m \u001b[0;34m*\u001b[0m \u001b[0ma\u001b[0m\u001b[0;34m.\u001b[0m\u001b[0mshape\u001b[0m\u001b[0;34m[\u001b[0m\u001b[0;36m0\u001b[0m\u001b[0;34m]\u001b[0m\u001b[0;34m\u001b[0m\u001b[0;34m\u001b[0m\u001b[0m\n\u001b[0m\u001b[1;32m     31\u001b[0m         \u001b[0mnew_a\u001b[0m \u001b[0;34m=\u001b[0m \u001b[0mtorch\u001b[0m\u001b[0;34m.\u001b[0m\u001b[0mempty\u001b[0m\u001b[0;34m(\u001b[0m\u001b[0;34m(\u001b[0m\u001b[0mdims\u001b[0m\u001b[0;34m,\u001b[0m \u001b[0;36m3\u001b[0m\u001b[0;34m,\u001b[0m \u001b[0mwindow_size\u001b[0m\u001b[0;34m,\u001b[0m \u001b[0mwindow_size\u001b[0m\u001b[0;34m)\u001b[0m\u001b[0;34m)\u001b[0m\u001b[0;34m\u001b[0m\u001b[0;34m\u001b[0m\u001b[0m\n\u001b[1;32m     32\u001b[0m         \u001b[0midx\u001b[0m \u001b[0;34m=\u001b[0m \u001b[0;36m0\u001b[0m\u001b[0;34m\u001b[0m\u001b[0;34m\u001b[0m\u001b[0m\n",
      "\u001b[0;31mTypeError\u001b[0m: unsupported operand type(s) for //: 'int' and 'SeqSlidingWindows'"
     ]
    }
   ],
   "source": [
    "import time\n",
    "\n",
    "dims = [16, 28, 64, 128, 1024]\n",
    "times = {}\n",
    "for dim in dims:\n",
    "    x_dim = torch.rand((2, 3, dim, dim))\n",
    "    \n",
    "    t = time.process_time()\n",
    "    y_seq = seqSliding(x_dim)\n",
    "    t_seq = time.process_time() - t\n",
    "    \n",
    "    t = time.process_time()\n",
    "    y_conv = convSliding(x_dim)\n",
    "    t_conv = time.process_time() - t\n",
    "    \n",
    "    times[dim] = [t_seq, t_conv]\n",
    "    \n",
    "print(times)"
   ]
  },
  {
   "cell_type": "markdown",
   "metadata": {},
   "source": [
    "The sequential model seems to run a lot faster, probably due to a programming error on my end. I had expected the convolutional model to run faster."
   ]
  },
  {
   "cell_type": "markdown",
   "metadata": {},
   "source": [
    "6) Modify slightly Andrew's convolutional neural network such that there is now an additional convolutional layer. Do convolutional and sequential sliding window with stride $2$ procedures still coincide ? If not, what should be the stride for them to coincide again ?\n",
    "\n",
    "7) Same question but now add an additional max pooling layer (with kernel size $2$) instead.\n",
    "\n",
    "8) It turns out that the architecture of the convolutional neural network map itself will determine what is the set of windows for which convolutional and sequential sliding window procedures coincide for that convolutional neural network map. In the following, let us assume that all convolutional layers have padding $0$ and all max pooling layers have kernel size $2$. Can you guess the formulas that give the number of windows and their indices ? $\\textbf{Hint}$: Remember your implementation of the Conv2d layer. $\\textbf{If you can't find this, CONTACT US!}$ It will be important in the second section."
   ]
  },
  {
   "cell_type": "markdown",
   "metadata": {},
   "source": [
    "# MNIST localization in Pytorch\n",
    "\n",
    "## 1 Data generation\n",
    "\n",
    "In this second section we aim to implement from scratch our custom digit localization algorithm. We will use the MNIST dataset as a backbone:"
   ]
  },
  {
   "cell_type": "code",
   "execution_count": 10,
   "metadata": {},
   "outputs": [],
   "source": [
    "def load_MNIST(MNIST_path, preprocessor, num_workers):\n",
    "    train_dataset = datasets.MNIST(MNIST_path, train=True, transform=preprocessor, download=True)\n",
    "    val_test_dataset = datasets.MNIST(MNIST_path, train=False, transform=preprocessor, download=True)\n",
    "    n_val_test = len(val_test_dataset.targets)\n",
    "    # The test set will only contain 30 images, perfect for visualization purpose:\n",
    "    val_dataset, test_dataset = torch.utils.data.random_split(val_test_dataset, [n_val_test-30, 30])\n",
    "    MNIST_datasets = {\"train\": train_dataset, \n",
    "                      \"val\": val_dataset,\n",
    "                      \"test\": test_dataset}\n",
    "    MNIST_generators = {\"train\": torch.utils.data.DataLoader(MNIST_datasets[\"train\"], \n",
    "                                                             batch_size=4, \n",
    "                                                             shuffle=True, \n",
    "                                                             num_workers=num_workers),\n",
    "                        \"val\": torch.utils.data.DataLoader(MNIST_datasets[\"val\"], \n",
    "                                                           batch_size=256, \n",
    "                                                           shuffle=False, \n",
    "                                                           num_workers=num_workers),\n",
    "                        \"test\": torch.utils.data.DataLoader(MNIST_datasets[\"test\"], \n",
    "                                                            batch_size=30, \n",
    "                                                            shuffle=False, \n",
    "                                                            num_workers=num_workers)}\n",
    "    return MNIST_datasets, MNIST_generators"
   ]
  },
  {
   "cell_type": "markdown",
   "metadata": {},
   "source": [
    "We now want to have a digit generator in pytorch that would produce samples \"on the fly\" for the digit localization task. The problem we have is that all MNIST digits are centered, have the same orientation and roughly the same size which makes the localization task pretty dull. \n",
    "\n",
    "**1) Write a data preprocessor that would do the following:**\n",
    "\n",
    "**a) Randomly rotates digits.**\n",
    "\n",
    "**b) Randomly rescales digits with a scale factor randomly sampled in the range [0.75,1.25].**\n",
    "\n",
    "**c) Randomly places digits within a zeros tensor having spatial dimensions $64\\times 64$.**\n",
    "\n",
    "**You can make sure your data generator works as intended by visualizing the test set generated by MNIST_generators[\"test\"]. Each image generated this way should contain one and exactly one digit!**"
   ]
  },
  {
   "cell_type": "code",
   "execution_count": null,
   "metadata": {},
   "outputs": [],
   "source": [
    "## import matplotlib.pyplot as plt\n",
    "import random\n",
    "random.seed(12)\n",
    "\n",
    "def padRandom(image):\n",
    "    \"\"\" Currently generates random once, pads all images following chosen random. Please fix. \"\"\"\n",
    "    x_rand_pad = random.randrange(60 - image.size[0]) + 2\n",
    "    y_rand_pad = random.randrange(60 - image.size[1]) + 2\n",
    "    image = transforms.functional.pad(image, [x_rand_pad, y_rand_pad, 64-image.size[0]-x_rand_pad, 64-image.size[1]-y_rand_pad])\n",
    "    return image\n",
    "\n",
    "MNIST_path = './MNIST/'\n",
    "preprocessor = transforms.Compose(\n",
    "                [transforms.Lambda(padRandom),\n",
    "                 transforms.RandomRotation(90),\n",
    "                 transforms.ToTensor()]\n",
    "                )\n",
    "num_workers = 0\n",
    "MNIST_datasets, MNIST_generators = load_MNIST(MNIST_path, preprocessor, num_workers)\n",
    "\n",
    "elem = next(iter(MNIST_generators[\"test\"]))\n",
    "plt.imshow(elem[0][0].permute(1, 2, 0))\n"
   ]
  },
  {
   "cell_type": "markdown",
   "metadata": {},
   "source": [
    "## 2 Convolutional sliding window\n",
    "\n",
    "We then need to implement the convolutional neural network that will do the heavy work. In a nutshell, we want to have a CNN that is able to locate and classify digits within input images with base dimensions $(h\\_in, w\\_in)$. Then, we use this CNN as the backbone mapping in a sliding window procedure, in order to be able to locate and classify digits within larger images with dimensions $(H\\_in, W\\_in)$ such that $H\\_in > h\\_in$ and $W\\_in > w\\_in$. In the first section, you learned how to perform this efficiently by converting the sequential sliding window procedure into a convolutional one. More specifically, you learned that passing directly the whole large image to the CNN mapping gives an output tensor whose spatial dimensions $(H\\_out, W\\_out)$ correspond to the number of sliding windows in the sequential procedure such that each cell is exactly the output of the CNN applied to the corresponding window. Moreover, you also are able to find the indices of these windows. \n",
    "\n",
    "**2) Use this knowledge in order to implement the CNN you'll be using for the digit localization task. Remember that the window size $(h\\_in, w\\_in)$ should be large enough to contain digits entirely and the input size $(H\\_in, W\\_in)$ should match the dimensions of the tensors produced by you generator, namely $64\\times 64$.**\n",
    "\n"
   ]
  },
  {
   "cell_type": "code",
   "execution_count": 63,
   "metadata": {},
   "outputs": [],
   "source": [
    "class ConvDigitLocalizationn(nn.Module):\n",
    "    def __init__(self):\n",
    "        super().__init__()\n",
    "        self.layers = nn.ModuleList()\n",
    "        self.layers.append(nn.Conv2d(1, 16, (5, 5)))\n",
    "        self.layers.append(nn.Conv2d(16, 32, (3, 3)))\n",
    "        self.layers.append(nn.MaxPool2d((2,2), stride=2))\n",
    "        self.layers.append(nn.Conv2d(32, 16, (3, 3)))\n",
    "        self.layers.append(nn.Conv2d(16, 400, (5, 5)))\n",
    "        self.layers.append(nn.Conv2d(400, 400, (1, 1)))\n",
    "        self.layers.append(nn.Conv2d(400, 4, (1, 1)))\n",
    "        self.layers.append(nn.Softmax(dim=1))\n",
    "        #Output 18x18\n",
    "        #Stride 2 (fordi maxpool)\n",
    "\n",
    "    def forward(self, x):\n",
    "        a = x\n",
    "        for layer in self.layers:\n",
    "            a = layer(a)\n",
    "        return a"
   ]
  },
  {
   "cell_type": "markdown",
   "metadata": {},
   "source": [
    "## 3 Bounding box extraction, encoding\n",
    "\n",
    "At the moment, we only have access to the digit labels. This is not sufficient for the task of digit localization: we need those bounding boxes, so we will produce them ourselves ! \n",
    "\n",
    "**3-1) Implement a code that will produce sharp bounding boxes around a digit. You can for instance use torch.where(... > 0.0) to find the limits of the digit in an image.**"
   ]
  },
  {
   "cell_type": "code",
   "execution_count": 50,
   "metadata": {},
   "outputs": [],
   "source": [
    "def findBox(image):\n",
    "    #Init impossible weights\n",
    "    TL = (64,64)\n",
    "    BR = (-1,-1)\n",
    "    \n",
    "    for y in range(image.shape[1]):\n",
    "        for x in range(image.shape[2]):\n",
    "            if image[0, y, x] != 0:\n",
    "                if x < TL[1] and y < TL[0]:\n",
    "                    TL = (y, x)\n",
    "                if x > BR[1] and y > BR[0]:\n",
    "                    BR = (y, x)\n",
    "    return torch.tensor([TL[0], TL[1], BR[0], BR[1]])\n"
   ]
  },
  {
   "cell_type": "markdown",
   "metadata": {},
   "source": [
    "We will encode the digit localization problem using a target vector of size $6$: $y = (y_0, y_1, y_2, y_3, y_4, y_5)$:\n",
    "- $y_0$ is binary and encodes whether or not a digit was detected.\n",
    "- $y_1$ is categorical and encodes the label of the digit (if any).\n",
    "- $y_2, y_3, y_4, y_5$ are continuous and encode the bounding box of the digit (if any).\n",
    "\n",
    "We want every window to carry information. As such, we want to produce one $y$ for every window, such that the groudtruth tensor $Y\\_true$ should have dimensions $(N,6,H\\_out,W\\_out)$. In order to do this, for each window we can check if the digit is visible in this window:\n",
    "- If that's the case, $y_0$ is $1$, $y_1$ is the label of the digit and $y_2, y_3, y_4, y_5$ are the bounding box values **converted in the referential of the window**: the top of the window $h\\_start$ is treated as $0.0$ wheras the bottom of the window $h\\_end$ is treated as $1.0$ (and similarly for the left and right of the window). \n",
    "- Otherwise, the $y$ for that window is simply a zeros vector (if that's the case, we only really care about $y_0=0$).\n",
    "\n",
    "**3-2) Implement the encoding procedure. The code may have a similar structure as in the cell below:**"
   ]
  },
  {
   "cell_type": "code",
   "execution_count": 73,
   "metadata": {},
   "outputs": [],
   "source": [
    "def encode_batch(xb, yb):\n",
    "    N = len(xb)\n",
    "    H_out = 18\n",
    "    W_out = 18\n",
    "    bounding_boxes = torch.zeros(size=(N, 4))\n",
    "    Y_true = torch.zeros(size=(N, 6, H_out, W_out))\n",
    "    stride = 2\n",
    "    for n in range(N):\n",
    "        # Bounding box extraction:\n",
    "        bounding_boxes[n,:] = findBox(xb[n])\n",
    "        # Bounding box coordinates:\n",
    "        top = bounding_boxes[n,0]\n",
    "        bottom = bounding_boxes[n,1]\n",
    "        left = bounding_boxes[n,2]\n",
    "        right = bounding_boxes[n,3]\n",
    "        for h in range(H_out):\n",
    "            for w in range(W_out):\n",
    "                # Coordinates of the window (h,w):\n",
    "                h_start = stride * h\n",
    "                w_start = stride * w\n",
    "                h_end = h_start + 11\n",
    "                w_end = w_start + 11\n",
    "                # If a digit is visible in the window (h,w) <==>\n",
    "                # rectangles (top, bottom, left, right) and (h_start, h_end, w_start, w_end) intersect:\n",
    "                y0 = 0\n",
    "                if (h_start in range(int(top), int(bottom))\n",
    "                    or h_end in range(int(top), int(bottom)) \n",
    "                    or w_start in range(int(), int(right))\n",
    "                    or w_end in range(int(left), int(right))\n",
    "                    or top in range(int(h_start), int(h_end))\n",
    "                    or bottom in range(int(h_start), int(h_end))\n",
    "                    or left in range(int(w_start), int(w_end))\n",
    "                    or right in range(int(w_start), int(w_end))):\n",
    "                    y0 = 1\n",
    "                Y_true[n,:,h,w] = torch.tensor([y0, yb[n], left, top, right, bottom])\n",
    "    return Y_true"
   ]
  },
  {
   "cell_type": "markdown",
   "metadata": {},
   "source": [
    "## 4 Training loop\n",
    "\n",
    "We are now ready to train our model. The only remaining question is the loss. We want a loss of the form $\\sum_{n < N} \\sum_{h < H\\_out} \\sum_{w < W\\_out} L(Y\\_true[n,:,h,w], Y\\_out[n,:,h,w])$,\n",
    "where \n",
    "\n",
    "$L(Y\\_true[n,:,h,w], Y\\_out[n,:,h,w]) = L\\_detection + L\\_classification + L\\_regression$ such that\n",
    "\n",
    "- $L\\_detection = binary\\_cross\\_entropy(sigmoid(Y\\_out[n,0,h,w]), Y\\_true[n,0,h,w])$\n",
    "\n",
    "If $sigmoid(Y\\_out[n,0,h,w]) > 0.5$ and $Y\\_true[n,0,h,w] == 1$ (\"true positive detection of digit in window $(h,w)$\"):\n",
    "- $L\\_classification = negative\\_log\\_likelihood\\_loss(log\\_softmax(Y\\_out[n,1\\!:\\!11,h,w]), Y\\_true[n,1,h,w])$ \n",
    "- $L\\_regression = mse(Y\\_out[n,-4\\!:,h,w], Y\\_true[n,-4\\!:,h,w])$\n",
    "\n",
    "Else:\n",
    "- $L\\_classification=0.0$\n",
    "- $L\\_regression=0.0$\n",
    "\n",
    "Essentially, this loss indicates that we break down the whole task into three subproblems:\n",
    "\n",
    "a) Is there a digit in the current window ?\n",
    "\n",
    "If so,\n",
    "\n",
    "b) What is the digit in the window ?\n",
    "\n",
    "c) Where is the digit in the window ?\n",
    "\n",
    "The two last questions only make sense assuming the first question was positively answered, hence the use of a conditional loss. Notice also that we sum the loss not only over samples in a batch, but also over windows. Essentially, the set of windows forming the sliding window procedure can be seen itself as a minibatch of samples. \n",
    "\n",
    "**4) Implement the training loop, then train your model for a few epochs.**"
   ]
  },
  {
   "cell_type": "code",
   "execution_count": null,
   "metadata": {},
   "outputs": [],
   "source": [
    "import datetime\n",
    "device = torch.device('cuda') if torch.cuda.is_available() else torch.device('cpu')\n",
    "\n",
    "bce = nn.BCELoss()\n",
    "neglog = nn.NLLLoss()\n",
    "sigmoid = nn.Sigmoid()\n",
    "mse = nn.MSELoss()\n",
    "softmax = nn.LogSoftmax()\n",
    "\n",
    "def pred_iter(y_true, y_pred):\n",
    "    for n in range(y_pred.shape[0]):\n",
    "        for h in range(y_pred.shape[2]):\n",
    "            for w in range(y_pred.shape[3]):\n",
    "                yield y_true[n,:,h,w], y_pred[n,:,h,w]\n",
    "\n",
    "def loss(y_true, y_pred):\n",
    "    tot = torch.zeros(1, requires_grad=True)\n",
    "    for true, pred in pred_iter(y_true, y_pred):\n",
    "        tot += loss_util(true, pred)\n",
    "    return tot\n",
    "\n",
    "\n",
    "def loss_util(y_true, y_pred):\n",
    "    loss_detection = bce(sigmoid(y_pred[0]), y_true[0])\n",
    "    if sigmoid(y_pred[0]) > 0.5 and y_true[0] == 1:\n",
    "        loss_class = neglog(softmax(y_pred[1:11]), y_true[1])\n",
    "        loss_regression = mse(y_pred[-4:], y_true[-4:])\n",
    "        return loss_detection + loss_class + loss_regression\n",
    "    return loss_detection\n",
    "\n",
    "\n",
    "def training_loop(n_epochs, optimizer, model, loss_fn, train_loader, y_vector_labels):\n",
    "    model.train()\n",
    "    for epoch in range(1, n_epochs + 1):\n",
    "        loss_train = 0.0\n",
    "        for imgs_labels, vector_labels in zip(train_loader, y_vector_labels):\n",
    "            imgs, labels = imgs_labels\n",
    "            imgs = imgs.to(device=device)\n",
    "            labels = labels.to(device=device)\n",
    "            vector_labels = vector_labels.to(device=device)\n",
    "            outputs = model(imgs)\n",
    "            loss = loss_fn(vector_labels, outputs)\n",
    "\n",
    "            loss.backward()\n",
    "            optimizer.step()\n",
    "            optimizer.zero_grad()\n",
    "\n",
    "            loss_train += loss.item()\n",
    "\n",
    "        if epoch == 1 or epoch % 10 == 0:\n",
    "            print('{}  |  Epoch {}  |  Training loss {:.3f}'.format(\n",
    "                datetime.datetime.now(), epoch,\n",
    "                loss_train / len(train_loader)))\n",
    "\n",
    "Y_true_train_batch = []\n",
    "for xb, yb in MNIST_generators['train']:\n",
    "    Y_true_train_batch.append(encode_batch(xb, yb))\n",
    "\n",
    "model = ConvDigitLocalizationn()\n",
    "opt = torch.optim.Adam(model.parameters(), lr=0.001, weight_decay=0.0001)\n",
    "training_loop(10, opt, model, loss, MNIST_generators['train'], Y_true_train_batch)"
   ]
  },
  {
   "cell_type": "code",
   "execution_count": null,
   "metadata": {},
   "outputs": [],
   "source": []
  },
  {
   "cell_type": "markdown",
   "metadata": {},
   "source": [
    "## 5 Prediction"
   ]
  },
  {
   "cell_type": "markdown",
   "metadata": {},
   "source": [
    "Your model should now be trained, great ! But now you may wonder: \"How do I predict ?\". And indeed it is not so obvious. In our implementation, our model should output a tensor $Y\\_out$ with dimensions $(N,15,H\\_out,W\\_out)$, that is we have one prediction vector per window in the sliding window procedure. We propose the following strategy: among all the predicted vectors, keep the one associated to the window with the highest label classification score. In other word, $\\forall n<N$:\n",
    "\n",
    "a) Compute the max classification scores: $max\\_classification\\_scores = max_{i=1:11} \\{log\\_softmax(Y\\_out[n,i,:,:])\\}$.\n",
    "\n",
    "b) Extract the indices of the best window: $h\\_best,w\\_best = argmax_{h<H\\_out,w<W\\_out} \\{max\\_classification\\_scores[h,w]\\}$.\n",
    "\n",
    "c) Save the prediction associated to the best window. **You will have to convert the predicted bounding box back to the referential of the input image.** \n",
    "\n",
    "**5) Implement the predict function.**"
   ]
  },
  {
   "cell_type": "code",
   "execution_count": null,
   "metadata": {},
   "outputs": [],
   "source": [
    "def predict(image):\n",
    "    out = model(image)\n",
    "    logsoftmaxout = torch.max(nn.LogSoftmax(out))\n",
    "    \n",
    "    \n",
    "    "
   ]
  },
  {
   "cell_type": "markdown",
   "metadata": {},
   "source": [
    "## 6 Visualization\n",
    "\n",
    "Time to test your hard work by visualizing your predictions ! \n",
    "\n",
    "**6) Implement a function that will display the 30 images contained in the test set, with the true bounding boxes in green and the predicted bounding boxes in red overlayed over images. Each image will be titled with its groundtruth and predicted labels. You can use fig, axes = plt.subplots(6, 5, figsize=(20, 16)) in order to place the images conveniently.**"
   ]
  }
 ],
 "metadata": {
  "kernelspec": {
   "display_name": "Python 3",
   "language": "python",
   "name": "python3"
  },
  "language_info": {
   "codemirror_mode": {
    "name": "ipython",
    "version": 3
   },
   "file_extension": ".py",
   "mimetype": "text/x-python",
   "name": "python",
   "nbconvert_exporter": "python",
   "pygments_lexer": "ipython3",
   "version": "3.8.2"
  }
 },
 "nbformat": 4,
 "nbformat_minor": 5
}
